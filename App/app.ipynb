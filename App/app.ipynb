{
 "cells": [
  {
   "cell_type": "code",
   "execution_count": 1,
   "id": "17b0c2b0",
   "metadata": {},
   "outputs": [],
   "source": [
    "from flask import Flask, render_template, request, jsonify\n",
    "import pandas as pd\n",
    "import xgboost as xgb\n",
    "import sys\n",
    "import os\n",
    "from sklearn.preprocessing import LabelEncoder, OneHotEncoder"
   ]
  },
  {
   "cell_type": "code",
   "execution_count": 29,
   "id": "d3490433",
   "metadata": {},
   "outputs": [],
   "source": [
    "sys.path.append(os.path.abspath('../'))\n",
    "\n",
    "# Agora você pode importar a função desejada\n",
    "from Utils.Uteis import Modelo"
   ]
  },
  {
   "cell_type": "code",
   "execution_count": 30,
   "id": "1c719967",
   "metadata": {},
   "outputs": [
    {
     "name": "stdout",
     "output_type": "stream",
     "text": [
      "Modelo carregado de: ../Modelo/modelo.joblib\n"
     ]
    }
   ],
   "source": [
    "app = Flask(__name__)\n",
    "\n",
    "utilModelo = Modelo()\n",
    "\n",
    "model = utilModelo.carregarModelo(\"../Modelo/modelo.joblib\")"
   ]
  },
  {
   "cell_type": "code",
   "execution_count": 51,
   "id": "aef10d42",
   "metadata": {},
   "outputs": [],
   "source": [
    "app = Flask(__name__)\n",
    "\n",
    "# Função para preparar os dados, garantindo que todas as colunas estejam\n",
    "def prepare_input(form_data):\n",
    "    expected_columns = [\n",
    "        \"Current Loan Amount\", \"Credit Score\", \"Annual Income\", \"Years in current job\",\n",
    "        \"Monthly Debt\", \"Years of Credit History\", \"Number of Open Accounts\",\n",
    "        \"Number of Credit Problems\", \"Current Credit Balance\", \"Maximum Open Credit\",\n",
    "        \"Bankruptcies\", \"Tax Liens\", \"TermLabel\",\n",
    "        \"Home Ownership_HaveMortgage\", \"Home Ownership_Home Mortgage\",\n",
    "        \"Home Ownership_Own Home\", \"Home Ownership_Rent\",\n",
    "        \"Purpose_Business Loan\", \"Purpose_Buy House\", \"Purpose_Buy a Car\",\n",
    "        \"Purpose_Debt Consolidation\", \"Purpose_Educational Expenses\",\n",
    "        \"Purpose_Home Improvements\", \"Purpose_Medical Bills\", \"Purpose_Other\",\n",
    "        \"Purpose_Take a Trip\", \"Purpose_major_purchase\", \"Purpose_moving\",\n",
    "        \"Purpose_other\", \"Purpose_renewable_energy\", \"Purpose_small_business\",\n",
    "        \"Purpose_vacation\", \"Purpose_wedding\"\n",
    "    ]\n",
    "\n",
    "    # Inicializa zeros\n",
    "    input_data = {col: 0 for col in expected_columns}\n",
    "\n",
    "    # Mapeia dados numéricos do form\n",
    "    input_data[\"Current Loan Amount\"] = float(form_data.get(\"loan_amount\", 0))\n",
    "    input_data[\"Credit Score\"] = float(form_data.get(\"credit_score\", 0))\n",
    "    input_data[\"Annual Income\"] = float(form_data.get(\"annual_income\", 0))\n",
    "    input_data[\"Years in current job\"] = float(form_data.get(\"years_job\", 0))\n",
    "    input_data[\"Monthly Debt\"] = float(form_data.get(\"monthly_debt\", 0))\n",
    "    input_data[\"Years of Credit History\"] = float(form_data.get(\"credit_history\", 0))\n",
    "    input_data[\"Number of Open Accounts\"] = float(form_data.get(\"open_accounts\", 0))\n",
    "    input_data[\"Number of Credit Problems\"] = float(form_data.get(\"credit_problems\", 0))\n",
    "    input_data[\"Current Credit Balance\"] = float(form_data.get(\"credit_balance\", 0))\n",
    "    input_data[\"Maximum Open Credit\"] = float(form_data.get(\"max_credit\", 0))\n",
    "    input_data[\"Bankruptcies\"] = float(form_data.get(\"bankruptcies\", 0))\n",
    "    input_data[\"Tax Liens\"] = float(form_data.get(\"tax_liens\", 0))\n",
    "\n",
    "    # TermLabel: 1 para Short Term, 0 para Long Term\n",
    "    input_data[\"TermLabel\"] = 1 if form_data.get(\"loan_term\") == \"Short Term\" else 0\n",
    "\n",
    "    # Home Ownership (one-hot)\n",
    "    home_ownership = form_data.get(\"home_ownership\", \"\")\n",
    "    home_col = f\"Home Ownership_{home_ownership}\"\n",
    "    if home_col in input_data:\n",
    "        input_data[home_col] = 1\n",
    "\n",
    "    # Purpose (one-hot)\n",
    "    purpose = form_data.get(\"loan_purpose\", \"\")\n",
    "    purpose_col = f\"Purpose_{purpose}\"\n",
    "    if purpose_col in input_data:\n",
    "        input_data[purpose_col] = 1\n",
    "\n",
    "    # Transforma em DataFrame\n",
    "    input_df = pd.DataFrame([input_data])\n",
    "    return input_df\n",
    "\n",
    "@app.route('/')\n",
    "def home():\n",
    "    home_options = ['Own Home', 'Rent', 'HaveMortgage', 'Home Mortgage']\n",
    "    purpose_options = [\n",
    "        'Business Loan', 'Buy House', 'Buy a Car', 'Debt Consolidation', \n",
    "        'Educational Expenses', 'Home Improvements', 'Medical Bills',\n",
    "        'Other', 'Take a Trip', 'major_purchase', 'moving', 'other',\n",
    "        'renewable_energy', 'small_business', 'vacation', 'wedding'\n",
    "    ]\n",
    "    return render_template('index.html', home_options=home_options, purpose_options=purpose_options)\n",
    "\n",
    "@app.route('/predict', methods=['POST'])\n",
    "def predict():\n",
    "    try:\n",
    "        form_data = request.form.to_dict()\n",
    "        input_df = prepare_input(form_data)\n",
    "\n",
    "        prediction = model.predict(input_df)\n",
    "        \n",
    "        # Se seu modelo suporta probabilidade (ex: model.predict_proba)\n",
    "        if hasattr(model, 'predict_proba'):\n",
    "            proba = model.predict_proba(input_df)[0][1]  # probabilidade classe 1\n",
    "            probability = f\"{proba:.2f}\"\n",
    "        else:\n",
    "            probability = \"N/A\"\n",
    "\n",
    "        result = \"Negado\" if prediction[0] == 1 else \"Aprovado\"\n",
    "\n",
    "        # converter input_df para dict simples para enviar ao template\n",
    "        features = input_df.iloc[0].to_dict()\n",
    "\n",
    "        return render_template(\"result.html\", result=result, probability=probability, features=features)\n",
    "    except Exception as e:\n",
    "        return f\"Erro: {str(e)}\"\n",
    "\n"
   ]
  },
  {
   "cell_type": "code",
   "execution_count": 52,
   "id": "fe3f64b4",
   "metadata": {},
   "outputs": [
    {
     "name": "stdout",
     "output_type": "stream",
     "text": [
      " * Serving Flask app '__main__'\n",
      " * Debug mode: off\n"
     ]
    },
    {
     "name": "stderr",
     "output_type": "stream",
     "text": [
      "WARNING: This is a development server. Do not use it in a production deployment. Use a production WSGI server instead.\n",
      " * Running on http://127.0.0.1:5000\n",
      "Press CTRL+C to quit\n",
      "127.0.0.1 - - [06/Jun/2025 11:27:53] \"GET / HTTP/1.1\" 200 -\n",
      "127.0.0.1 - - [06/Jun/2025 11:27:53] \"GET /static/css/style.css HTTP/1.1\" 304 -\n",
      "127.0.0.1 - - [06/Jun/2025 11:28:36] \"POST /predict HTTP/1.1\" 200 -\n",
      "127.0.0.1 - - [06/Jun/2025 11:28:36] \"GET /static/css/style.css HTTP/1.1\" 304 -\n"
     ]
    }
   ],
   "source": [
    "if __name__ == '__main__':\n",
    "    app.run(use_reloader=False)"
   ]
  }
 ],
 "metadata": {
  "kernelspec": {
   "display_name": "base",
   "language": "python",
   "name": "python3"
  },
  "language_info": {
   "codemirror_mode": {
    "name": "ipython",
    "version": 3
   },
   "file_extension": ".py",
   "mimetype": "text/x-python",
   "name": "python",
   "nbconvert_exporter": "python",
   "pygments_lexer": "ipython3",
   "version": "3.12.4"
  }
 },
 "nbformat": 4,
 "nbformat_minor": 5
}
